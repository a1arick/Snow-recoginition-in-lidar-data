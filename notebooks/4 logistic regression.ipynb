{
 "cells": [
  {
   "cell_type": "markdown",
   "id": "90ce65a9",
   "metadata": {},
   "source": [
    "# В этом ноутбуке будем тренировать логистическую регререссию на наших данных"
   ]
  },
  {
   "cell_type": "code",
   "execution_count": 38,
   "id": "4eb2e04b",
   "metadata": {},
   "outputs": [],
   "source": [
    "import pandas as pd\n",
    "import numpy as np\n",
    "from sklearn.linear_model import LogisticRegression\n",
    "from sklearn.metrics import roc_auc_score"
   ]
  },
  {
   "cell_type": "markdown",
   "id": "ba7cdeae",
   "metadata": {},
   "source": [
    "будем использовать нормализованный датасет"
   ]
  },
  {
   "cell_type": "code",
   "execution_count": 39,
   "id": "b93c9a61",
   "metadata": {},
   "outputs": [],
   "source": [
    "#df_train = pd.read_csv(\"/Volumes/HP P800/itmo/Lidar data/data_train.csv\")\n",
    "df_train =  pd.read_csv(\"/Volumes/HP P800/itmo/Lidar data/data_simple_preprocess_normalize_all_columns_train.csv\")\n",
    "# df_train =  pd.read_csv(\"/Volumes/HP P800/itmo/Lidar data/df_kdtree_train.csv\")"
   ]
  },
  {
   "cell_type": "markdown",
   "id": "ad1f9281",
   "metadata": {},
   "source": [
    "Сделаем проверку на дисбаланс классов"
   ]
  },
  {
   "cell_type": "code",
   "execution_count": 40,
   "id": "9515a783",
   "metadata": {},
   "outputs": [
    {
     "data": {
      "text/html": [
       "<div>\n",
       "<style scoped>\n",
       "    .dataframe tbody tr th:only-of-type {\n",
       "        vertical-align: middle;\n",
       "    }\n",
       "\n",
       "    .dataframe tbody tr th {\n",
       "        vertical-align: top;\n",
       "    }\n",
       "\n",
       "    .dataframe thead th {\n",
       "        text-align: right;\n",
       "    }\n",
       "</style>\n",
       "<table border=\"1\" class=\"dataframe\">\n",
       "  <thead>\n",
       "    <tr style=\"text-align: right;\">\n",
       "      <th></th>\n",
       "      <th>Unnamed: 0</th>\n",
       "      <th>scene_id</th>\n",
       "      <th>x</th>\n",
       "      <th>y</th>\n",
       "      <th>z</th>\n",
       "      <th>intensity</th>\n",
       "      <th>ring</th>\n",
       "      <th>x_normailized</th>\n",
       "      <th>y_normailized</th>\n",
       "      <th>z_normailized</th>\n",
       "      <th>ring_normailized</th>\n",
       "      <th>intensity_normailized</th>\n",
       "    </tr>\n",
       "    <tr>\n",
       "      <th>label</th>\n",
       "      <th></th>\n",
       "      <th></th>\n",
       "      <th></th>\n",
       "      <th></th>\n",
       "      <th></th>\n",
       "      <th></th>\n",
       "      <th></th>\n",
       "      <th></th>\n",
       "      <th></th>\n",
       "      <th></th>\n",
       "      <th></th>\n",
       "      <th></th>\n",
       "    </tr>\n",
       "  </thead>\n",
       "  <tbody>\n",
       "    <tr>\n",
       "      <th>0.0</th>\n",
       "      <td>4005070</td>\n",
       "      <td>4005070</td>\n",
       "      <td>4005070</td>\n",
       "      <td>4005070</td>\n",
       "      <td>4005070</td>\n",
       "      <td>4005070</td>\n",
       "      <td>4005070</td>\n",
       "      <td>4005070</td>\n",
       "      <td>4005070</td>\n",
       "      <td>4005070</td>\n",
       "      <td>4005070</td>\n",
       "      <td>4005070</td>\n",
       "    </tr>\n",
       "    <tr>\n",
       "      <th>1.0</th>\n",
       "      <td>481210</td>\n",
       "      <td>481210</td>\n",
       "      <td>481210</td>\n",
       "      <td>481210</td>\n",
       "      <td>481210</td>\n",
       "      <td>481210</td>\n",
       "      <td>481210</td>\n",
       "      <td>481210</td>\n",
       "      <td>481210</td>\n",
       "      <td>481210</td>\n",
       "      <td>481210</td>\n",
       "      <td>481210</td>\n",
       "    </tr>\n",
       "  </tbody>\n",
       "</table>\n",
       "</div>"
      ],
      "text/plain": [
       "       Unnamed: 0  scene_id        x        y        z  intensity     ring  \\\n",
       "label                                                                        \n",
       "0.0       4005070   4005070  4005070  4005070  4005070    4005070  4005070   \n",
       "1.0        481210    481210   481210   481210   481210     481210   481210   \n",
       "\n",
       "       x_normailized  y_normailized  z_normailized  ring_normailized  \\\n",
       "label                                                                  \n",
       "0.0          4005070        4005070        4005070           4005070   \n",
       "1.0           481210         481210         481210            481210   \n",
       "\n",
       "       intensity_normailized  \n",
       "label                         \n",
       "0.0                  4005070  \n",
       "1.0                   481210  "
      ]
     },
     "execution_count": 40,
     "metadata": {},
     "output_type": "execute_result"
    }
   ],
   "source": [
    "df_train.groupby([\"label\"]).count()"
   ]
  },
  {
   "cell_type": "markdown",
   "id": "d38a38b6",
   "metadata": {},
   "source": [
    "Как видим дисбаланас классов очень большой, избавимся от него путем раскопирования данных"
   ]
  },
  {
   "cell_type": "code",
   "execution_count": 41,
   "id": "1a6e264d",
   "metadata": {
    "scrolled": true
   },
   "outputs": [
    {
     "name": "stderr",
     "output_type": "stream",
     "text": [
      "/var/folders/bx/60hcl2tn12bb9txf54xp9l9m0000gn/T/ipykernel_764/155822642.py:7: FutureWarning: The frame.append method is deprecated and will be removed from pandas in a future version. Use pandas.concat instead.\n",
      "  df_train = df_train.append(k)\n",
      "/var/folders/bx/60hcl2tn12bb9txf54xp9l9m0000gn/T/ipykernel_764/155822642.py:7: FutureWarning: The frame.append method is deprecated and will be removed from pandas in a future version. Use pandas.concat instead.\n",
      "  df_train = df_train.append(k)\n",
      "/var/folders/bx/60hcl2tn12bb9txf54xp9l9m0000gn/T/ipykernel_764/155822642.py:7: FutureWarning: The frame.append method is deprecated and will be removed from pandas in a future version. Use pandas.concat instead.\n",
      "  df_train = df_train.append(k)\n",
      "/var/folders/bx/60hcl2tn12bb9txf54xp9l9m0000gn/T/ipykernel_764/155822642.py:7: FutureWarning: The frame.append method is deprecated and will be removed from pandas in a future version. Use pandas.concat instead.\n",
      "  df_train = df_train.append(k)\n",
      "/var/folders/bx/60hcl2tn12bb9txf54xp9l9m0000gn/T/ipykernel_764/155822642.py:7: FutureWarning: The frame.append method is deprecated and will be removed from pandas in a future version. Use pandas.concat instead.\n",
      "  df_train = df_train.append(k)\n",
      "/var/folders/bx/60hcl2tn12bb9txf54xp9l9m0000gn/T/ipykernel_764/155822642.py:7: FutureWarning: The frame.append method is deprecated and will be removed from pandas in a future version. Use pandas.concat instead.\n",
      "  df_train = df_train.append(k)\n",
      "/var/folders/bx/60hcl2tn12bb9txf54xp9l9m0000gn/T/ipykernel_764/155822642.py:7: FutureWarning: The frame.append method is deprecated and will be removed from pandas in a future version. Use pandas.concat instead.\n",
      "  df_train = df_train.append(k)\n",
      "/var/folders/bx/60hcl2tn12bb9txf54xp9l9m0000gn/T/ipykernel_764/155822642.py:9: FutureWarning: The frame.append method is deprecated and will be removed from pandas in a future version. Use pandas.concat instead.\n",
      "  df_train = df_train.append(k.head(ost))\n"
     ]
    }
   ],
   "source": [
    "k = df_train[df_train[\"label\"] == 1.0]\n",
    "\n",
    "m = len(df_train[df_train[\"label\"] == 0.0]) // len(df_train[df_train[\"label\"] == 1.0])\n",
    "ost = len(df_train[df_train[\"label\"] == 0.0]) % len(df_train[df_train[\"label\"] == 1.0])\n",
    "\n",
    "for i in range(0,m-1):\n",
    "    df_train = df_train.append(k)\n",
    "\n",
    "df_train = df_train.append(k.head(ost))"
   ]
  },
  {
   "cell_type": "code",
   "execution_count": 42,
   "id": "5bbc2c80",
   "metadata": {
    "scrolled": true
   },
   "outputs": [
    {
     "data": {
      "text/html": [
       "<div>\n",
       "<style scoped>\n",
       "    .dataframe tbody tr th:only-of-type {\n",
       "        vertical-align: middle;\n",
       "    }\n",
       "\n",
       "    .dataframe tbody tr th {\n",
       "        vertical-align: top;\n",
       "    }\n",
       "\n",
       "    .dataframe thead th {\n",
       "        text-align: right;\n",
       "    }\n",
       "</style>\n",
       "<table border=\"1\" class=\"dataframe\">\n",
       "  <thead>\n",
       "    <tr style=\"text-align: right;\">\n",
       "      <th></th>\n",
       "      <th>Unnamed: 0</th>\n",
       "      <th>scene_id</th>\n",
       "      <th>x</th>\n",
       "      <th>y</th>\n",
       "      <th>z</th>\n",
       "      <th>intensity</th>\n",
       "      <th>ring</th>\n",
       "      <th>x_normailized</th>\n",
       "      <th>y_normailized</th>\n",
       "      <th>z_normailized</th>\n",
       "      <th>ring_normailized</th>\n",
       "      <th>intensity_normailized</th>\n",
       "    </tr>\n",
       "    <tr>\n",
       "      <th>label</th>\n",
       "      <th></th>\n",
       "      <th></th>\n",
       "      <th></th>\n",
       "      <th></th>\n",
       "      <th></th>\n",
       "      <th></th>\n",
       "      <th></th>\n",
       "      <th></th>\n",
       "      <th></th>\n",
       "      <th></th>\n",
       "      <th></th>\n",
       "      <th></th>\n",
       "    </tr>\n",
       "  </thead>\n",
       "  <tbody>\n",
       "    <tr>\n",
       "      <th>0.0</th>\n",
       "      <td>4005070</td>\n",
       "      <td>4005070</td>\n",
       "      <td>4005070</td>\n",
       "      <td>4005070</td>\n",
       "      <td>4005070</td>\n",
       "      <td>4005070</td>\n",
       "      <td>4005070</td>\n",
       "      <td>4005070</td>\n",
       "      <td>4005070</td>\n",
       "      <td>4005070</td>\n",
       "      <td>4005070</td>\n",
       "      <td>4005070</td>\n",
       "    </tr>\n",
       "    <tr>\n",
       "      <th>1.0</th>\n",
       "      <td>4005070</td>\n",
       "      <td>4005070</td>\n",
       "      <td>4005070</td>\n",
       "      <td>4005070</td>\n",
       "      <td>4005070</td>\n",
       "      <td>4005070</td>\n",
       "      <td>4005070</td>\n",
       "      <td>4005070</td>\n",
       "      <td>4005070</td>\n",
       "      <td>4005070</td>\n",
       "      <td>4005070</td>\n",
       "      <td>4005070</td>\n",
       "    </tr>\n",
       "  </tbody>\n",
       "</table>\n",
       "</div>"
      ],
      "text/plain": [
       "       Unnamed: 0  scene_id        x        y        z  intensity     ring  \\\n",
       "label                                                                        \n",
       "0.0       4005070   4005070  4005070  4005070  4005070    4005070  4005070   \n",
       "1.0       4005070   4005070  4005070  4005070  4005070    4005070  4005070   \n",
       "\n",
       "       x_normailized  y_normailized  z_normailized  ring_normailized  \\\n",
       "label                                                                  \n",
       "0.0          4005070        4005070        4005070           4005070   \n",
       "1.0          4005070        4005070        4005070           4005070   \n",
       "\n",
       "       intensity_normailized  \n",
       "label                         \n",
       "0.0                  4005070  \n",
       "1.0                  4005070  "
      ]
     },
     "execution_count": 42,
     "metadata": {},
     "output_type": "execute_result"
    }
   ],
   "source": [
    "df_train.groupby([\"label\"]).count()"
   ]
  },
  {
   "cell_type": "markdown",
   "id": "02cf1804",
   "metadata": {},
   "source": [
    "Теперь количество сэмлов в классах равны"
   ]
  },
  {
   "cell_type": "markdown",
   "id": "ce7d085a",
   "metadata": {},
   "source": [
    "Разделиим данные на X и y. Не будем использовать фичи z и ring вместе, потому что они имеют большую корреляцию"
   ]
  },
  {
   "cell_type": "code",
   "execution_count": 44,
   "id": "32584c00",
   "metadata": {},
   "outputs": [],
   "source": [
    "X_train = df_train[[\"x_normailized\", \"y_normailized\", \"z_normailized\", \"intensity_normailized\"]]\n",
    "y_train = df_train[[\"label\"]]"
   ]
  },
  {
   "cell_type": "code",
   "execution_count": 45,
   "id": "8e6b7ed8",
   "metadata": {},
   "outputs": [
    {
     "name": "stderr",
     "output_type": "stream",
     "text": [
      "/Users/alexander.savelyev/opt/anaconda3/envs/Snow_recognition/lib/python3.9/site-packages/sklearn/utils/validation.py:1111: DataConversionWarning: A column-vector y was passed when a 1d array was expected. Please change the shape of y to (n_samples, ), for example using ravel().\n",
      "  y = column_or_1d(y, warn=True)\n"
     ]
    }
   ],
   "source": [
    "clf = LogisticRegression(random_state=0).fit(X_train, y_train)"
   ]
  },
  {
   "cell_type": "markdown",
   "id": "eb7e893c",
   "metadata": {},
   "source": [
    "Выведем roc_auc_score для тренировочных данных"
   ]
  },
  {
   "cell_type": "code",
   "execution_count": 52,
   "id": "72cfe347",
   "metadata": {},
   "outputs": [
    {
     "data": {
      "text/plain": [
       "0.9110154128547827"
      ]
     },
     "execution_count": 52,
     "metadata": {},
     "output_type": "execute_result"
    }
   ],
   "source": [
    "roc_auc_score(y_train, clf.predict_proba(X_train)[:, 1])"
   ]
  },
  {
   "cell_type": "markdown",
   "id": "39ea55f8",
   "metadata": {},
   "source": [
    "Теперь оценим результат roc_auc_score на тестовых данных"
   ]
  },
  {
   "cell_type": "code",
   "execution_count": 47,
   "id": "6ac85da1",
   "metadata": {},
   "outputs": [],
   "source": [
    "#df_test = pd.read_csv(\"/Volumes/HP P800/itmo/Lidar data/data_test.csv\")\n",
    "df_test = pd.read_csv(\"/Volumes/HP P800/itmo/Lidar data/data_simple_preprocess_normalize_all_columns_test.csv\")\n",
    "# df_test = pd.read_csv((\"/Volumes/HP P800/itmo/Lidar data/df_kdtree_test.csv\")"
   ]
  },
  {
   "cell_type": "code",
   "execution_count": 48,
   "id": "13bf9174",
   "metadata": {},
   "outputs": [],
   "source": [
    "X_test = df_test[[\"x_normailized\", \"y_normailized\", \"z_normailized\", \"intensity_normailized\"]] \n",
    "y_test = df_test[[\"label\"]]"
   ]
  },
  {
   "cell_type": "code",
   "execution_count": 49,
   "id": "a0178f08",
   "metadata": {},
   "outputs": [
    {
     "data": {
      "text/plain": [
       "0.8931836315132812"
      ]
     },
     "execution_count": 49,
     "metadata": {},
     "output_type": "execute_result"
    }
   ],
   "source": [
    "roc_auc_score(y_test, clf.predict_proba(X_test)[:, 1])"
   ]
  },
  {
   "cell_type": "markdown",
   "id": "004031b0",
   "metadata": {},
   "source": [
    "Посмотрим на веса классификатора"
   ]
  },
  {
   "cell_type": "code",
   "execution_count": 50,
   "id": "be37694a",
   "metadata": {},
   "outputs": [
    {
     "name": "stdout",
     "output_type": "stream",
     "text": [
      "[[-5.42831598e-02  6.49432114e-01  1.91181218e+01  2.62015774e-03]]\n"
     ]
    }
   ],
   "source": [
    "print(clf.coef_)"
   ]
  },
  {
   "cell_type": "markdown",
   "id": "5eb32fb6",
   "metadata": {},
   "source": [
    "Как видим z_normailized имеет наибольший вес для данной модели, тогда если значение z большое, то классификатор отнесете его к снежинке с большой вероятностью"
   ]
  },
  {
   "cell_type": "code",
   "execution_count": null,
   "id": "222cd9c3",
   "metadata": {},
   "outputs": [],
   "source": []
  }
 ],
 "metadata": {
  "kernelspec": {
   "display_name": "Python 3 (ipykernel)",
   "language": "python",
   "name": "python3"
  },
  "language_info": {
   "codemirror_mode": {
    "name": "ipython",
    "version": 3
   },
   "file_extension": ".py",
   "mimetype": "text/x-python",
   "name": "python",
   "nbconvert_exporter": "python",
   "pygments_lexer": "ipython3",
   "version": "3.9.12"
  }
 },
 "nbformat": 4,
 "nbformat_minor": 5
}
